{
 "cells": [
  {
   "cell_type": "code",
   "execution_count": 3,
   "id": "edb72353",
   "metadata": {},
   "outputs": [
    {
     "name": "stdout",
     "output_type": "stream",
     "text": [
      "-------------------Menu------------------\n",
      "\n",
      "1001 : 5 Star | 10 | 0\n",
      "1002 : Bar-One | 20 | 500\n",
      "1003 : Candy | 25 | 500\n",
      "1004 : Chocolate Cake | 550 | 6\n",
      "1005 : Blueberry Cake | 650 | 2\n",
      "-------------------------------------------\n",
      "\n",
      "Enter Your Name            : Aarfath\n",
      "Enter Your Phone Number: 5782748\n",
      "Enter Your E-mail ID   : Aarfath@gmail.com\n",
      "Enter product ID        : 1005\n",
      "Enter product Quantity  : 3\n",
      "sorry, we don't have enough quantity.\n",
      "Would you like to buy the remaing 2\n",
      "Enter Y/Nn\n",
      "We'll inform you once we get the delivery \n",
      " Thank You\n"
     ]
    }
   ],
   "source": [
    "import json\n",
    "import time\n",
    "fd = open('Record.json', 'r')\n",
    "js = fd.read()\n",
    "fd.close()\n",
    "record = json.loads(js)\n",
    "\n",
    "print(\"-------------------Menu------------------\\n\")\n",
    "\n",
    "for key in record.keys():\n",
    "    print(key,\":\", record[key]['Name'],\"|\" ,record[key]['Price'],\"|\", record[key]['Qn'])\n",
    "    \n",
    "print(\"-------------------------------------------\\n\")  \n",
    "\n",
    "ui_name = input(\"Enter Your Name            : \")\n",
    "ui_phone_no = input(\"Enter Your Phone Number: \")\n",
    "ui_email_id = input(\"Enter Your E-mail ID   : \")\n",
    "prd_id = str(input(\"Enter product ID        : \"))\n",
    "prd_qn = int(input(\"Enter product Quantity  : \"))\n",
    "\n",
    "if (record[prd_id]['Qn'] >= prd_qn):\n",
    "\n",
    "    print(\"-------------------------------------------\\n\")\n",
    "    print('                  Bill                     \\n')\n",
    "\n",
    "    print(\"Product Name     :\", record[prd_id][\"Name\"])\n",
    "    print(\"Product Price    :\", record[prd_id]['Price'])\n",
    "    print(\"Product Quantity :\", prd_qn)\n",
    "    print(\"---------------------------------------------\\n\")\n",
    "    print(\"Total Amount     : $\", prd_qn*record[prd_id]['Price'],'\\n')\n",
    "\n",
    "    print(\"-----------Thank You, Visit Again------------\\n\")\n",
    "    \n",
    "    customer_details = ui_name+', ' + ui_phone_no+', ' + ui_email_id+', '+prd_id+', '+record[prd_id]['Name']+', '+str(record[prd_id]['Price'])+', '+str(record[prd_id]['Qn'])+', '+str(prd_qn)+', '+str(record[prd_id][\"Price\"]*prd_qn)+', '+time.ctime()+'\\n'\n",
    "\n",
    "    record[prd_id]['Qn'] = record[prd_id]['Qn'] - prd_qn\n",
    "    \n",
    "\n",
    "    js = json.dumps(record)\n",
    "\n",
    "    fd = open('Record.json', 'w')\n",
    "    fd.write(js)\n",
    "    fd.close()\n",
    "    \n",
    "\n",
    "else:\n",
    "    print(\"sorry, we don't have enough quantity.\")\n",
    "    print(\"Would you like to buy the remaing\", record[prd_id][\"Qn\"])\n",
    "    ch = input(\"Enter Y/N\")\n",
    "    if (ch == 'y' or ch == 'Y'):\n",
    "        print(\"-------------------------------------------\\n\")\n",
    "        print('                  Bill                     \\n')\n",
    "\n",
    "        print(\"Product Name     :\", record[prd_id][\"Name\"])\n",
    "        print(\"Product Price    :\", record[prd_id]['Price'])\n",
    "        print(\"Product Quantity :\", record[prd_id]['Qn'])\n",
    "        print(\"---------------------------------------------\\n\")\n",
    "        print(\"Total Amount     : $\", record[prd_id]['Qn']*record[prd_id]['Price'],'\\n')\n",
    "\n",
    "        print(\"-----------Thank You, Visit Again------------\\n\")\n",
    "        \n",
    "        customer_details = ui_name+', ' + ui_phone_no+', ' + ui_email_id+', '+prd_id+', '+record[prd_id]['Name']+', '+str(record[prd_id]['Price'])+', '+str(record[prd_id]['Qn'])+', '+str(record[prd_id]['Qn'])+', '+str(record[prd_id][\"Price\"]*record[prd_id]['Qn'])+', '+time.ctime() +'\\n'\n",
    "        \n",
    "\n",
    "        record[prd_id]['Qn'] = 0\n",
    "\n",
    "        js = json.dumps(record)\n",
    "\n",
    "        fd = open('Record.json', 'w')\n",
    "        fd.write(js)\n",
    "        fd.close()\n",
    "        \n",
    "3\n",
    "    elif (ch =='n' or ch=='N'):\n",
    "        print(\"We'll inform you once we get the delivery \\n Thank You\")\n",
    "        \n",
    "fd = open(\"Sales.txt\", 'a')\n",
    "fd.write(customer_details)\n",
    "fd.close() "
   ]
  },
  {
   "cell_type": "code",
   "execution_count": 4,
   "id": "eee94834",
   "metadata": {},
   "outputs": [
    {
     "data": {
      "text/plain": [
       "'Rasheed, 24729472, Rasheed@gmail.com, 1001, 5 Star, 10, 1000, 1000, 10000, Mon Sep 11 11:33:02 2023\\n'"
      ]
     },
     "execution_count": 4,
     "metadata": {},
     "output_type": "execute_result"
    }
   ],
   "source": [
    "customer_details"
   ]
  },
  {
   "cell_type": "code",
   "execution_count": null,
   "id": "b98c1b31",
   "metadata": {},
   "outputs": [],
   "source": []
  }
 ],
 "metadata": {
  "kernelspec": {
   "display_name": "Python 3 (ipykernel)",
   "language": "python",
   "name": "python3"
  },
  "language_info": {
   "codemirror_mode": {
    "name": "ipython",
    "version": 3
   },
   "file_extension": ".py",
   "mimetype": "text/x-python",
   "name": "python",
   "nbconvert_exporter": "python",
   "pygments_lexer": "ipython3",
   "version": "3.11.4"
  }
 },
 "nbformat": 4,
 "nbformat_minor": 5
}
